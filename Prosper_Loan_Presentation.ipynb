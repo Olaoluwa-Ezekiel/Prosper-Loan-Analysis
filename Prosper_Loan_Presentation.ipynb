{
 "cells": [
  {
   "cell_type": "markdown",
   "metadata": {
    "slideshow": {
     "slide_type": "slide"
    }
   },
   "source": [
    "# Effect of Loan Attributes on Their Outcomes\n",
    "## By: Ezekiel Oladiran"
   ]
  },
  {
   "cell_type": "markdown",
   "metadata": {
    "slideshow": {
     "slide_type": "slide"
    }
   },
   "source": [
    "## Investigation Overview\n",
    "\n",
    "In this investigation, I wanted to look at the factors that affect a loan's outcome. For the presentation, I focused on the influence of Loan Amount, Interest Rate and Prosper Score on Loan Outcome. I start by introducing the distribution of loan outcome, followed by the pattern in loan amount distribution, then the pattern of the distribution of interest rate. \n",
    "\n",
    "Afterwards, I looked at the effect of loan amount and interest rate on the outcome of the loans, and I went further by looking at how prosper score would influence that effect.\n",
    "\n",
    "\n",
    "## Dataset Overview\n",
    "\n",
    "The data consists of information regarding Prosper Loan listings, including loan amount, borrower rate (or interest rate), current loan status, borrower income, and many others. The active and cancelled loans were dropped from the dataset so that just the 57,151 inactive loans would be analysed."
   ]
  },
  {
   "cell_type": "code",
   "execution_count": 2,
   "metadata": {
    "slideshow": {
     "slide_type": "skip"
    }
   },
   "outputs": [],
   "source": [
    "# import all packages and set plots to be embedded inline\n",
    "import numpy as np\n",
    "import pandas as pd\n",
    "import matplotlib.pyplot as plt\n",
    "import seaborn as sns\n",
    "\n",
    "%matplotlib inline\n",
    "\n",
    "# suppress warnings from final output\n",
    "import warnings\n",
    "warnings.simplefilter(\"ignore\")"
   ]
  },
  {
   "cell_type": "code",
   "execution_count": 2,
   "metadata": {
    "slideshow": {
     "slide_type": "skip"
    }
   },
   "outputs": [],
   "source": [
    "# load in the dataset into a pandas dataframe\n",
    "df = pd.read_csv('prosperLoanData.csv')"
   ]
  },
  {
   "cell_type": "code",
   "execution_count": 3,
   "metadata": {
    "slideshow": {
     "slide_type": "skip"
    }
   },
   "outputs": [],
   "source": [
    "# Extract the necessary features into a new dataframe\n",
    "loan_df = df[['ListingKey', 'ListingCreationDate', 'CreditGrade', 'Term', \n",
    "              'LoanStatus', 'BorrowerAPR', 'BorrowerRate', 'ProsperRating (Alpha)', 'ProsperScore', \n",
    "              'ListingCategory (numeric)', 'Occupation', 'StatedMonthlyIncome', 'LoanOriginalAmount']]"
   ]
  },
  {
   "cell_type": "code",
   "execution_count": 4,
   "metadata": {
    "slideshow": {
     "slide_type": "skip"
    }
   },
   "outputs": [],
   "source": [
    "# Make a copy of the dataframe\n",
    "loan_df_clean = loan_df.copy()"
   ]
  },
  {
   "cell_type": "code",
   "execution_count": 5,
   "metadata": {
    "slideshow": {
     "slide_type": "skip"
    }
   },
   "outputs": [],
   "source": [
    "# Replace 'NC' in CreditGrade column to NaN\n",
    "loan_df_clean['CreditGrade'] = loan_df_clean['CreditGrade'].replace('NC', np.NaN)"
   ]
  },
  {
   "cell_type": "code",
   "execution_count": 6,
   "metadata": {
    "slideshow": {
     "slide_type": "skip"
    }
   },
   "outputs": [],
   "source": [
    "# combinig loan rating for listings pre-2009 and listings after July 2009\n",
    "loan_df_clean['LoanGrade'] = loan_df_clean['CreditGrade'].fillna(loan_df_clean['ProsperRating (Alpha)'])"
   ]
  },
  {
   "cell_type": "code",
   "execution_count": 7,
   "metadata": {
    "slideshow": {
     "slide_type": "skip"
    }
   },
   "outputs": [],
   "source": [
    "# drop CreditGrade and ProsperRating (Alpha) since we've combined both as LoanGrade\n",
    "loan_df_clean = loan_df_clean.drop(['CreditGrade', 'ProsperRating (Alpha)'], axis=1)"
   ]
  },
  {
   "cell_type": "code",
   "execution_count": 8,
   "metadata": {
    "slideshow": {
     "slide_type": "skip"
    }
   },
   "outputs": [],
   "source": [
    "# Impute the text representation for the ListingCategory\n",
    "Loan_cat = {0 : 'Not Available',\n",
    "           1 : 'Debt Consolidation',\n",
    "           2 : 'Home Improvement',\n",
    "           3 : 'Business',\n",
    "           4 : 'Personal Loan',\n",
    "           5 : 'Student Use',\n",
    "           6 : 'Auto',\n",
    "           7 : 'Other',\n",
    "           8 : 'Baby & Adoption',\n",
    "           9 : 'Boat',\n",
    "           10 : 'Cosmetic Procedure',\n",
    "           11 : 'Engagement Ring',\n",
    "           12 : 'Green Loans',\n",
    "           13 : 'Household Expenses',\n",
    "           14 : 'Large Purchases',\n",
    "           15 : 'Medical/Dental',\n",
    "           16 : 'Motorcycle',\n",
    "           17 : 'RV',\n",
    "           18 : 'Taxes',\n",
    "           19 : 'Vacation',\n",
    "           20 : 'Wedding Loans'}\n",
    "\n",
    "def listing_cat(loan_df_clean):\n",
    "    \n",
    "    if loan_df_clean['ListingCategory (numeric)'] in Loan_cat:\n",
    "        category = Loan_cat[loan_df_clean['ListingCategory (numeric)']]\n",
    "        return category\n",
    "    else:\n",
    "        return loan_df_clean['ListingCategory (numeric)']\n",
    "\n",
    "    \n",
    "    \n",
    "loan_df_clean['ListingCategory'] = loan_df_clean.apply(listing_cat, axis=1)"
   ]
  },
  {
   "cell_type": "code",
   "execution_count": 9,
   "metadata": {
    "slideshow": {
     "slide_type": "skip"
    }
   },
   "outputs": [],
   "source": [
    "# Drop 'ListingCategory (numeric)'\n",
    "loan_df_clean = loan_df_clean.drop('ListingCategory (numeric)', axis=1)"
   ]
  },
  {
   "cell_type": "code",
   "execution_count": 10,
   "metadata": {
    "slideshow": {
     "slide_type": "skip"
    }
   },
   "outputs": [],
   "source": [
    "# Convert BorrowerAPR and BorrowerRate to percentages \n",
    "loan_df_clean['BorrowerAPR'] = round(loan_df_clean['BorrowerAPR']*100, 2) \n",
    "loan_df_clean['BorrowerRate'] = round(loan_df_clean['BorrowerRate']*100, 2) "
   ]
  },
  {
   "cell_type": "code",
   "execution_count": 11,
   "metadata": {
    "slideshow": {
     "slide_type": "skip"
    }
   },
   "outputs": [],
   "source": [
    "# Remove active loans\n",
    "loan_df_clean = loan_df_clean.query(\"LoanStatus not in ['Current','FinalPaymentInProgress', 'Cancelled']\")"
   ]
  },
  {
   "cell_type": "code",
   "execution_count": 12,
   "metadata": {
    "slideshow": {
     "slide_type": "skip"
    }
   },
   "outputs": [],
   "source": [
    "# let all the past due loan status read 'Past Due' without the delinquency bucket\n",
    "loan_df_clean['LoanStatus'] = loan_df_clean['LoanStatus'].str.extract('([a-zA-Z]+[\\s]*[a-zA-Z]+)', expand=False)"
   ]
  },
  {
   "cell_type": "code",
   "execution_count": 13,
   "metadata": {
    "slideshow": {
     "slide_type": "skip"
    }
   },
   "outputs": [],
   "source": [
    "# Replace 'Past Due' with 'Defaulted'\n",
    "loan_df_clean['LoanStatus'] = loan_df_clean['LoanStatus'].replace('Past Due', 'Defaulted')"
   ]
  },
  {
   "cell_type": "code",
   "execution_count": 14,
   "metadata": {
    "slideshow": {
     "slide_type": "skip"
    }
   },
   "outputs": [],
   "source": [
    "# Convert Term, LoanStatus, PropserScore, and LoanGrade into ordered categorical types\n",
    "ordinal_var_dict = {'Term': [12, 36, 60],\n",
    "                    'LoanStatus': ['Chargedoff', 'Defaulted', 'Completed'],\n",
    "                   'ProsperScore' : [1, 2, 3, 4, 5, 6, 7, 8, 9, 10],\n",
    "                   'LoanGrade': ['HR', 'E', 'D', 'C', 'B', 'A', 'AA']}\n",
    "\n",
    "\n",
    "for var in ordinal_var_dict:\n",
    "    ordered_var = pd.api.types.CategoricalDtype(ordered = True,\n",
    "                                                categories = ordinal_var_dict[var])\n",
    "    loan_df_clean[var] = loan_df_clean[var].astype(ordered_var)"
   ]
  },
  {
   "cell_type": "code",
   "execution_count": 15,
   "metadata": {
    "slideshow": {
     "slide_type": "skip"
    }
   },
   "outputs": [],
   "source": [
    "# Convert ListingCreationDate to datetime\n",
    "loan_df_clean['ListingCreationDate'] = pd.to_datetime(loan_df_clean['ListingCreationDate'])"
   ]
  },
  {
   "cell_type": "code",
   "execution_count": 16,
   "metadata": {
    "slideshow": {
     "slide_type": "skip"
    }
   },
   "outputs": [],
   "source": [
    "# Let's store the dataframe in a much shorter variable name\n",
    "prosper = loan_df_clean\n",
    "\n",
    "# reset index\n",
    "prosper = prosper.reset_index(drop=True)"
   ]
  },
  {
   "cell_type": "code",
   "execution_count": 19,
   "metadata": {
    "slideshow": {
     "slide_type": "skip"
    }
   },
   "outputs": [],
   "source": [
    "# define the color variable\n",
    "base_color = sns.color_palette()[0]"
   ]
  },
  {
   "cell_type": "markdown",
   "metadata": {
    "slideshow": {
     "slide_type": "slide"
    }
   },
   "source": [
    "## Distribution of Loan Outcome\n",
    "\n",
    "The outcome of the loans is generally good, with a large proportion of the loans completed."
   ]
  },
  {
   "cell_type": "code",
   "execution_count": 21,
   "metadata": {
    "slideshow": {
     "slide_type": "subslide"
    }
   },
   "outputs": [
    {
     "data": {
      "image/png": "[encoded data removed]",
      "text/plain": [
       "<Figure size 576x360 with 1 Axes>"
      ]
     },
     "metadata": {
      "needs_background": "light"
     },
     "output_type": "display_data"
    }
   ],
   "source": [
    "plt.figure(figsize=[8, 5])\n",
    "sns.countplot(x='LoanStatus', data=prosper, color=base_color)\n",
    "plt.xlabel('Loan Outcome')\n",
    "plt.ylabel('Count')\n",
    "plt.title('Distribution of Loan Outcome');"
   ]
  },
  {
   "cell_type": "markdown",
   "metadata": {
    "slideshow": {
     "slide_type": "slide"
    }
   },
   "source": [
    "## Distribution of Loan Amount\n",
    "\n",
    "Plotted on a logarithmic scale, the distribution of Loan Amount appears unimodal with the peak around \\\\$4,000. A large proportion of listings take on an amount to the nearest thousand or higher (e.g. \\\\$1,000, \\\\$2,000, \\\\$3,000, etc.)."
   ]
  },
  {
   "cell_type": "code",
   "execution_count": 22,
   "metadata": {
    "slideshow": {
     "slide_type": "subslide"
    }
   },
   "outputs": [
    {
     "data": {
      "image/png": "[encoded data removed]",
      "text/plain": [
       "<Figure size 576x360 with 1 Axes>"
      ]
     },
     "metadata": {
      "needs_background": "light"
     },
     "output_type": "display_data"
    }
   ],
   "source": [
    "bins = 10 ** np.arange(3, np.log10(prosper['LoanOriginalAmount'].max())+0.04, 0.04)\n",
    "\n",
    "plt.figure(figsize = (8,5))\n",
    "plt.hist(x='LoanOriginalAmount', data=prosper, bins=bins)\n",
    "plt.xscale('log')\n",
    "plt.xticks([1000, 2000, 3000, 5000, 10000, 20000, 30000, 50000], [1000, 2000, 3000, 5000, 10000, 20000, 30000, 50000])\n",
    "plt.xlabel('Loan Amount ($)')\n",
    "plt.title('Distribution of Loan Amount');"
   ]
  },
  {
   "cell_type": "markdown",
   "metadata": {
    "slideshow": {
     "slide_type": "slide"
    }
   },
   "source": [
    "## Distribution of Interest Rate\n",
    "\n",
    "The distribution of the interest rate appears unimodal with the peak a little above 30%. A large proportion of the distribution appears to be between 10% and 30%."
   ]
  },
  {
   "cell_type": "code",
   "execution_count": 23,
   "metadata": {
    "slideshow": {
     "slide_type": "subslide"
    }
   },
   "outputs": [
    {
     "data": {
      "image/png": "[encoded data removed]",
      "text/plain": [
       "<Figure size 576x360 with 1 Axes>"
      ]
     },
     "metadata": {
      "needs_background": "light"
     },
     "output_type": "display_data"
    }
   ],
   "source": [
    "bins = np.arange(0, prosper['BorrowerRate'].max()+1, 1)\n",
    "\n",
    "plt.figure(figsize = (8,5))\n",
    "plt.hist(x='BorrowerRate', data=prosper, bins=bins)\n",
    "plt.xlabel('Interest Rate (%)')\n",
    "plt.title('Distribution of Interest Rate');"
   ]
  },
  {
   "cell_type": "markdown",
   "metadata": {
    "slideshow": {
     "slide_type": "slide"
    }
   },
   "source": [
    "## Loan Outcome by Loan Amount and Interest Rate\n",
    "\n",
    "There is an interaction effect visible between loan outcome, loan amount and interest rate. As the loan outcome moves from 'Chargedoff' to 'Completed', the distribution of points moves towards the lower left of the plot, thus showing decreased loan amount and decreased interest rate."
   ]
  },
  {
   "cell_type": "code",
   "execution_count": 24,
   "metadata": {
    "slideshow": {
     "slide_type": "skip"
    }
   },
   "outputs": [],
   "source": [
    "def hist2dgrid(x, y, **kwargs):\n",
    "    \"\"\" Quick hack for creating heat maps with seaborn's PairGrid. \"\"\"\n",
    "    palette = kwargs.pop('color')\n",
    "    bins_x = np.arange(0, 49+7, 7)\n",
    "    bins_y = np.arange(1000, 35000+900, 900)\n",
    "    plt.hist2d(x, y, bins = [bins_x, bins_y], cmap = palette, cmin = 10)\n",
    "    plt.colorbar(label='Count')"
   ]
  },
  {
   "cell_type": "code",
   "execution_count": 36,
   "metadata": {
    "slideshow": {
     "slide_type": "subslide"
    }
   },
   "outputs": [
    {
     "data": {
      "image/png": "[encoded data removed]",
      "text/plain": [
       "<Figure size 972x216 with 6 Axes>"
      ]
     },
     "metadata": {
      "needs_background": "light"
     },
     "output_type": "display_data"
    }
   ],
   "source": [
    "g = sns.FacetGrid(data = prosper, col = 'LoanStatus', height = 3, aspect=1.5)\n",
    "g.map(hist2dgrid, 'BorrowerRate', 'LoanOriginalAmount', color = 'inferno_r')\n",
    "g.set(ylim=[1000, 10000])\n",
    "g.set_titles(col_template='Loan Outcome: {col_name}')\n",
    "g.set_xlabels('Interest Rate (%)')\n",
    "g.set_ylabels('Loan Amount ($)')\n",
    "g.fig.suptitle(\"Loan Outcome by Loan Amount and Interest Rate\", y=1.1);"
   ]
  },
  {
   "cell_type": "markdown",
   "metadata": {
    "slideshow": {
     "slide_type": "slide"
    }
   },
   "source": [
    "## Loan Outcome by Loan Amount, Interest Rate, and Prosper Score\n",
    "\n",
    "We can see how introducing prosper score into the mix affects the loan outcome. Listings with a high prosper score, low interest rate and not so high loan amount (<=\\\\$7,000) seems to be completed than other listings, while listings with very low prosper scores, high interest rate and low loan amount seems to be chargedoff more than other listings. "
   ]
  },
  {
   "cell_type": "code",
   "execution_count": 38,
   "metadata": {
    "slideshow": {
     "slide_type": "subslide"
    }
   },
   "outputs": [
    {
     "data": {
      "image/png": "[encoded data removed]",
      "text/plain": [
       "<Figure size 1440x432 with 2 Axes>"
      ]
     },
     "metadata": {
      "needs_background": "light"
     },
     "output_type": "display_data"
    }
   ],
   "source": [
    "plt.figure(figsize=(20,6))\n",
    "plt.suptitle('Loan Outcome by Loan Amount, Interest Rate, and Prosper Score')\n",
    "\n",
    "plt.subplot(1,2,1)\n",
    "sns.pointplot(x='ProsperScore', y='LoanOriginalAmount', data=prosper, hue='LoanStatus',\n",
    "              palette='Blues', linestyles='', dodge=0.4)\n",
    "plt.xlabel('Prosper Score')\n",
    "plt.ylabel('Average Loan Amount ($)')\n",
    "plt.title('Loan Outcome by Loan Amount and Prosper Score')\n",
    "plt.legend(title='Loan Outcome')\n",
    "\n",
    "plt.subplot(1,2,2)\n",
    "sns.pointplot(x='ProsperScore', y='BorrowerRate', data=prosper, hue='LoanStatus',\n",
    "              palette='Blues', linestyles='', dodge=0.4)\n",
    "plt.xlabel('Prosper Score')\n",
    "plt.ylabel('Average Interest Rate (%)')\n",
    "plt.title('Loan Outcome by Interest Rate and Prosper Score')\n",
    "plt.legend(title='Loan Outcome');"
   ]
  },
  {
   "cell_type": "code",
   "execution_count": null,
   "metadata": {
    "slideshow": {
     "slide_type": "skip"
    }
   },
   "outputs": [],
   "source": [
    "!jupyter nbconvert Prosper_Loan_Presentation.ipynb --to slides --post serve --no-input --no-prompt"
   ]
  },
  {
   "cell_type": "code",
   "execution_count": null,
   "metadata": {},
   "outputs": [],
   "source": []
  }
 ],
 "metadata": {
  "celltoolbar": "Slideshow",
  "kernelspec": {
   "display_name": "Python 3",
   "language": "python",
   "name": "python3"
  },
  "language_info": {
   "codemirror_mode": {
    "name": "ipython",
    "version": 3
   },
   "file_extension": ".py",
   "mimetype": "text/x-python",
   "name": "python",
   "nbconvert_exporter": "python",
   "pygments_lexer": "ipython3",
   "version": "3.8.3"
  }
 },
 "nbformat": 4,
 "nbformat_minor": 4
}
